{
  "nbformat": 4,
  "nbformat_minor": 0,
  "metadata": {
    "colab": {
      "name": "MovieInfo.ipynb",
      "provenance": [],
      "authorship_tag": "ABX9TyMpFdsIv6D5mDx5pUKL7QXT",
      "include_colab_link": true
    },
    "kernelspec": {
      "name": "python3",
      "display_name": "Python 3"
    },
    "language_info": {
      "name": "python"
    }
  },
  "cells": [
    {
      "cell_type": "markdown",
      "metadata": {
        "id": "view-in-github",
        "colab_type": "text"
      },
      "source": [
        "<a href=\"https://colab.research.google.com/github/sid999999/API-WebScraping/blob/main/MovieInfo.ipynb\" target=\"_parent\"><img src=\"https://colab.research.google.com/assets/colab-badge.svg\" alt=\"Open In Colab\"/></a>"
      ]
    },
    {
      "cell_type": "code",
      "execution_count": null,
      "metadata": {
        "id": "SGdAGUG3RO9P"
      },
      "outputs": [],
      "source": [
        "# Disney Dataset Creation (w/ Python BeautifulSoup)\n",
        "# Scrape & clean a list of disney wikipedia pages to create a dataset to further analyze\n",
        "\n",
        "#Beautiful soup documentation: https://www.crummy.com/software/BeautifulSoup/bs4/doc/"
      ]
    },
    {
      "cell_type": "markdown",
      "source": [
        "# ***Task #1: Get Info Box (store in Python dictionary)***\n",
        "Import Necessary Libraries"
      ],
      "metadata": {
        "id": "wVDQqJNORhEQ"
      }
    },
    {
      "cell_type": "code",
      "source": [
        "from bs4 import BeautifulSoup as bs\n",
        "import requests"
      ],
      "metadata": {
        "id": "0yt7Ea5zRT4v"
      },
      "execution_count": null,
      "outputs": []
    },
    {
      "cell_type": "markdown",
      "source": [
        "Load the webpage"
      ],
      "metadata": {
        "id": "1CkWnP0QRlIK"
      }
    },
    {
      "cell_type": "code",
      "source": [
        "r = requests.get(\"https://en.wikipedia.org/wiki/Toy_Story_3\")\n",
        "\n",
        "# Convert to a beautiful soup object\n",
        "soup = bs(r.content)\n",
        "\n",
        "# Print out the HTML\n",
        "contents = soup.prettify()\n",
        "print(contents)"
      ],
      "metadata": {
        "id": "kTak1KFlRT7O"
      },
      "execution_count": null,
      "outputs": []
    },
    {
      "cell_type": "code",
      "source": [
        "#get the dat from the infobox from wikipedia\n",
        "info_box = soup.find(class_=\"infobox vevent\")\n",
        "info_rows = info_box.find_all(\"tr\")\n",
        "for row in info_rows:\n",
        "#prettify: get indented nicer looking info\n",
        "    print(row.prettify())"
      ],
      "metadata": {
        "id": "VXDsbCsORT9_"
      },
      "execution_count": null,
      "outputs": []
    },
    {
      "cell_type": "markdown",
      "source": [
        "1.strip whitespace form the beginning and end of each bit of text\n",
        "\n",
        "soup.get_text(\"|\",strip=True)"
      ],
      "metadata": {
        "id": "wMNXvxW9V1Kx"
      }
    },
    {
      "cell_type": "code",
      "source": [
        "#get the row data for just one movie\n",
        "def get_content_value(row_data):\n",
        "#if there is a list \n",
        "    if row_data.find(\"li\"):\n",
        "        return [li.get_text(\" \", strip=True).replace(\"\\xa0\", \" \") for li in row_data.find_all(\"li\")]\n",
        "    else:\n",
        "        return row_data.get_text(\" \", strip=True).replace(\"\\xa0\", \" \")\n",
        "\n",
        "movie_info = {}\n",
        "for index, row in enumerate(info_rows):\n",
        "    if index == 0:\n",
        "        movie_info['title'] = row.find(\"th\").get_text(\" \", strip=True)\n",
        "    elif index == 1:\n",
        "        continue\n",
        "    else:\n",
        "        content_key = row.find(\"th\").get_text(\" \", strip=True)\n",
        "        content_value = get_content_value(row.find(\"td\"))\n",
        "        movie_info[content_key] = content_value\n",
        "    \n",
        "movie_info"
      ],
      "metadata": {
        "colab": {
          "base_uri": "https://localhost:8080/"
        },
        "id": "VZqCoFU5RUAp",
        "outputId": "1c04fe5b-4fc1-48ad-883f-a77a3f4c1658"
      },
      "execution_count": null,
      "outputs": [
        {
          "output_type": "execute_result",
          "data": {
            "text/plain": [
              "{'Box office': '$1.067 billion [1]',\n",
              " 'Budget': '$200 million [1]',\n",
              " 'Cinematography': ['Jeremy Lasky', 'Kim White'],\n",
              " 'Country': 'United States',\n",
              " 'Directed by': 'Lee Unkrich',\n",
              " 'Distributed by': 'Walt Disney Studios Motion Pictures',\n",
              " 'Edited by': 'Ken Schretzmann',\n",
              " 'Language': 'English',\n",
              " 'Music by': 'Randy Newman',\n",
              " 'Produced by': 'Darla K. Anderson',\n",
              " 'Production companies': ['Walt Disney Pictures', 'Pixar Animation Studios'],\n",
              " 'Release dates': ['June 12, 2010 ( 2010-06-12 ) ( Taormina Film Fest )',\n",
              "  'June 18, 2010 ( 2010-06-18 ) (United States)'],\n",
              " 'Running time': '103 minutes [1]',\n",
              " 'Screenplay by': 'Michael Arndt',\n",
              " 'Starring': ['Tom Hanks',\n",
              "  'Tim Allen',\n",
              "  'Joan Cusack',\n",
              "  'Don Rickles',\n",
              "  'Wallace Shawn',\n",
              "  'John Ratzenberger',\n",
              "  'Estelle Harris',\n",
              "  'Ned Beatty',\n",
              "  'Michael Keaton',\n",
              "  'Jodi Benson',\n",
              "  'John Morris'],\n",
              " 'Story by': ['John Lasseter', 'Andrew Stanton', 'Lee Unkrich'],\n",
              " 'title': 'Toy Story 3'}"
            ]
          },
          "metadata": {},
          "execution_count": 4
        }
      ]
    },
    {
      "cell_type": "markdown",
      "source": [
        "# ***Task #2: Get info box for all movies***"
      ],
      "metadata": {
        "id": "FZXQ88pOWVTz"
      }
    },
    {
      "cell_type": "code",
      "source": [
        "r = requests.get(\"https://en.wikipedia.org/wiki/List_of_Walt_Disney_Pictures_films\")\n",
        "\n",
        "# Convert to a beautiful soup object\n",
        "soup = bs(r.content)\n",
        "\n",
        "# Print out the HTML\n",
        "contents = soup.prettify()\n",
        "print(contents)"
      ],
      "metadata": {
        "id": "-op7z_qQRpSB"
      },
      "execution_count": null,
      "outputs": []
    },
    {
      "cell_type": "code",
      "source": [
        "#select 2 different classes\n",
        "#select the i box where contains title and link of the movie\n",
        "movies = soup.select(\".wikitable.sortable i a\")\n",
        "movies[0:2]\n",
        "#movies"
      ],
      "metadata": {
        "colab": {
          "base_uri": "https://localhost:8080/"
        },
        "id": "fic2rjPXRpUw",
        "outputId": "e21ee679-c453-4b65-dd27-f6ac6194f265"
      },
      "execution_count": null,
      "outputs": [
        {
          "output_type": "execute_result",
          "data": {
            "text/plain": [
              "[<i><a href=\"/wiki/Academy_Award_Review_of_Walt_Disney_Cartoons\" title=\"Academy Award Review of Walt Disney Cartoons\">Academy Award Review of Walt Disney Cartoons</a></i>,\n",
              " <i><a href=\"/wiki/Snow_White_and_the_Seven_Dwarfs_(1937_film)\" title=\"Snow White and the Seven Dwarfs (1937 film)\">Snow White and the Seven Dwarfs</a></i>]"
            ]
          },
          "metadata": {},
          "execution_count": 16
        }
      ]
    },
    {
      "cell_type": "code",
      "source": [
        "def get_content_value(row_data):\n",
        "    if row_data.find(\"li\"):\n",
        "        return [li.get_text(\" \", strip=True).replace(\"\\xa0\", \" \") for li in row_data.find_all(\"li\")]\n",
        "    elif row_data.find(\"br\"):\n",
        "        return [text for text in row_data.stripped_strings]\n",
        "    else:\n",
        "        return row_data.get_text(\" \", strip=True).replace(\"\\xa0\", \" \")\n",
        "\n",
        "def clean_tags(soup):\n",
        "    for tag in soup.find_all([\"sup\", \"span\"]):\n",
        "        tag.decompose()\n",
        "        \n",
        "def get_info_box(url):\n",
        "#copy the code above for getting info for one movie\n",
        "    r = requests.get(url)\n",
        "    soup = bs(r.content)\n",
        "    info_box = soup.find(class_=\"infobox vevent\")\n",
        "    info_rows = info_box.find_all(\"tr\")\n",
        "    \n",
        "    clean_tags(soup)\n",
        "\n",
        "    movie_info = {}\n",
        "    for index, row in enumerate(info_rows):\n",
        "        if index == 0:\n",
        "            movie_info['title'] = row.find(\"th\").get_text(\" \", strip=True)\n",
        "        else:\n",
        "            header = row.find('th')\n",
        "            if header:\n",
        "                content_key = row.find(\"th\").get_text(\" \", strip=True)\n",
        "                content_value = get_content_value(row.find(\"td\"))\n",
        "                movie_info[content_key] = content_value\n",
        "            \n",
        "    return movie_info    "
      ],
      "metadata": {
        "id": "WZOqKLxzRpZy"
      },
      "execution_count": null,
      "outputs": []
    },
    {
      "cell_type": "code",
      "source": [
        "#test the function for one movie\n",
        "get_info_box(\"https://en.wikipedia.org/wiki/One_Little_Indian_(film)\")"
      ],
      "metadata": {
        "colab": {
          "base_uri": "https://localhost:8080/"
        },
        "id": "dLUA4meaRpch",
        "outputId": "28aa4638-a350-4731-e6d6-db61cf580b8d"
      },
      "execution_count": null,
      "outputs": [
        {
          "output_type": "execute_result",
          "data": {
            "text/plain": [
              "{'Box office': '$2 million',\n",
              " 'Cinematography': 'Charles F. Wheeler',\n",
              " 'Country': 'United States',\n",
              " 'Directed by': 'Bernard McEveety',\n",
              " 'Distributed by': 'Buena Vista Distribution',\n",
              " 'Edited by': 'Robert Stafford',\n",
              " 'Language': 'English',\n",
              " 'Music by': 'Jerry Goldsmith',\n",
              " 'Produced by': 'Winston Hibler',\n",
              " 'Production company': 'Walt Disney Productions',\n",
              " 'Release date': ['June 20, 1973'],\n",
              " 'Running time': '90 Minutes',\n",
              " 'Starring': ['James Garner',\n",
              "  'Vera Miles',\n",
              "  'Pat Hingle',\n",
              "  'Morgan Woodward',\n",
              "  'Jodie Foster'],\n",
              " 'Written by': 'Harry Spalding',\n",
              " 'title': 'One Little Indian'}"
            ]
          },
          "metadata": {},
          "execution_count": 11
        }
      ]
    },
    {
      "cell_type": "code",
      "source": [
        "#get all the movies from disney\n",
        "#get the information for each movie(title and link)\n",
        "r = requests.get(\"https://en.wikipedia.org/wiki/List_of_Walt_Disney_Pictures_films\")\n",
        "soup = bs(r.content)\n",
        "movies = soup.select(\".wikitable.sortable i a\")\n",
        "\n",
        "base_path = \"https://en.wikipedia.org/\"\n",
        "\n",
        "#get info for each movie\n",
        "movie_info_list = []\n",
        "for index, movie in enumerate(movies):\n",
        "    if index % 10 == 0:\n",
        "        print(index)\n",
        "    try:\n",
        "        relative_path = movie['href']\n",
        "        full_path = base_path + relative_path\n",
        "        title = movie['title']\n",
        "        \n",
        "        movie_info_list.append(get_info_box(full_path))\n",
        "        \n",
        "    except Exception as e:\n",
        "        print(movie.get_text())\n",
        "        print(e)"
      ],
      "metadata": {
        "colab": {
          "base_uri": "https://localhost:8080/"
        },
        "id": "aekJaKSHRpe5",
        "outputId": "b4475af9-def1-4b1a-8343-e25b9eda1a9b"
      },
      "execution_count": null,
      "outputs": [
        {
          "output_type": "stream",
          "name": "stdout",
          "text": [
            "0\n",
            "10\n",
            "20\n",
            "30\n",
            "40\n",
            "Zorro the Avenger\n",
            "'NoneType' object has no attribute 'find'\n",
            "The Sign of Zorro\n",
            "'NoneType' object has no attribute 'find'\n",
            "50\n",
            "60\n",
            "70\n",
            "80\n",
            "90\n",
            "100\n",
            "110\n",
            "120\n",
            "130\n",
            "140\n",
            "The London Connection\n",
            "'NoneType' object has no attribute 'find'\n",
            "150\n",
            "160\n",
            "170\n",
            "180\n",
            "190\n",
            "200\n",
            "210\n",
            "220\n",
            "230\n",
            "240\n",
            "250\n",
            "260\n",
            "270\n",
            "280\n",
            "290\n",
            "300\n",
            "310\n",
            "320\n",
            "330\n",
            "340\n",
            "350\n",
            "360\n",
            "370\n",
            "380\n",
            "390\n",
            "400\n",
            "410\n",
            "420\n",
            "430\n",
            "440\n",
            "450\n",
            "460\n",
            "470\n",
            "480\n",
            "The Beatles: Get Back – The Rooftop Concert\n",
            "'NoneType' object has no attribute 'find'\n",
            "490\n",
            "500\n",
            "61\n",
            "'NoneType' object has no attribute 'find_all'\n",
            "All Night Long\n",
            "'NoneType' object has no attribute 'find'\n",
            "510\n",
            "Keeper of the Lost Cities\n",
            "'NoneType' object has no attribute 'find_all'\n",
            "Muppet Man\n",
            "'NoneType' object has no attribute 'find_all'\n",
            "520\n",
            "Sister Act 3\n",
            "'NoneType' object has no attribute 'find'\n",
            "The Thief\n",
            "'NoneType' object has no attribute 'find_all'\n",
            "Tom Sawyer\n",
            "'NoneType' object has no attribute 'find_all'\n",
            "530\n",
            "Tower of Terror\n",
            "'NoneType' object has no attribute 'find_all'\n",
            "Tron: Ares\n",
            "'NoneType' object has no attribute 'find'\n",
            "FC Barcelona\n",
            "'NoneType' object has no attribute 'find_all'\n",
            "Young Woman and the Sea\n",
            "'NoneType' object has no attribute 'find_all'\n"
          ]
        }
      ]
    },
    {
      "cell_type": "code",
      "source": [
        "len(movie_info_list)"
      ],
      "metadata": {
        "colab": {
          "base_uri": "https://localhost:8080/"
        },
        "id": "g_DCmin2Rphh",
        "outputId": "b59c7e4e-4a55-40c8-e17c-b535421b15bd"
      },
      "execution_count": null,
      "outputs": [
        {
          "output_type": "execute_result",
          "data": {
            "text/plain": [
              "519"
            ]
          },
          "metadata": {},
          "execution_count": 17
        }
      ]
    },
    {
      "cell_type": "code",
      "source": [
        "movie_info_list[0:10]"
      ],
      "metadata": {
        "id": "WphVEpYeRpj7"
      },
      "execution_count": null,
      "outputs": []
    },
    {
      "cell_type": "markdown",
      "source": [
        "# ***Save/Reload Movie Data***"
      ],
      "metadata": {
        "id": "uMCHI78lcubR"
      }
    },
    {
      "cell_type": "code",
      "source": [
        "import json\n",
        "\n",
        "def save_data(title, data):\n",
        "    with open(title, 'w', encoding='utf-8') as f:\n",
        "        json.dump(data, f, ensure_ascii=False, indent=2)"
      ],
      "metadata": {
        "id": "05DJmRUSRpvJ"
      },
      "execution_count": null,
      "outputs": []
    },
    {
      "cell_type": "code",
      "source": [
        "import json\n",
        "\n",
        "def load_data(title):\n",
        "    with open(title, encoding=\"utf-8\") as f:\n",
        "        return json.load(f)"
      ],
      "metadata": {
        "id": "4cfshE-_Rpxx"
      },
      "execution_count": null,
      "outputs": []
    },
    {
      "cell_type": "code",
      "source": [
        "save_data(\"disney_data_cleaned.json\", movie_info_list)"
      ],
      "metadata": {
        "id": "T5LSDKmIRp0R"
      },
      "execution_count": null,
      "outputs": []
    },
    {
      "cell_type": "markdown",
      "source": [
        "# ***Task #3: Clean our data!***"
      ],
      "metadata": {
        "id": "rx_mBcggc5a5"
      }
    },
    {
      "cell_type": "code",
      "source": [
        "movie_info_list = load_data(\"disney_data_cleaned.json\")"
      ],
      "metadata": {
        "id": "nAuhC40_Rp3B"
      },
      "execution_count": null,
      "outputs": []
    },
    {
      "cell_type": "markdown",
      "source": [
        "Subtasks\n",
        "\n",
        "Clean up references [1]\n",
        "\n",
        "Convert running time into an integer\n",
        "\n",
        "Convert dates into datetime object\n",
        "\n",
        "Split up the long strings\n",
        "\n",
        "Convert Budget & Box office to numbers"
      ],
      "metadata": {
        "id": "7YRsgq6adJFJ"
      }
    },
    {
      "cell_type": "code",
      "source": [
        "movie_info_list[-40]"
      ],
      "metadata": {
        "colab": {
          "base_uri": "https://localhost:8080/"
        },
        "id": "gJRXUQA3Rp5l",
        "outputId": "f0f500d0-7bef-4089-c8ea-57864b0a4c84"
      },
      "execution_count": null,
      "outputs": [
        {
          "output_type": "execute_result",
          "data": {
            "text/plain": [
              "{'Based on': \"Walt Disney 's Jungle Cruise\",\n",
              " 'Box office': '$220.9 million',\n",
              " 'Budget': '$200 million',\n",
              " 'Cinematography': 'Flavio Labiano',\n",
              " 'Country': 'United States',\n",
              " 'Directed by': 'Jaume Collet-Serra',\n",
              " 'Distributed by': 'Walt Disney Studios Motion Pictures',\n",
              " 'Edited by': 'Joel Negron',\n",
              " 'Language': 'English',\n",
              " 'Music by': 'James Newton Howard',\n",
              " 'Produced by': ['John Davis',\n",
              "  'John Fox',\n",
              "  'Beau Flynn',\n",
              "  'Dwayne Johnson',\n",
              "  'Dany Garcia',\n",
              "  'Hiram Garcia'],\n",
              " 'Production companies': ['Walt Disney Pictures',\n",
              "  'Davis Entertainment',\n",
              "  'Seven Bucks Productions',\n",
              "  'Flynn Picture Company'],\n",
              " 'Release dates': ['July 24, 2021 ( Disneyland Resort )',\n",
              "  'July 30, 2021 (United States)'],\n",
              " 'Running time': '128 minutes',\n",
              " 'Screenplay by': ['Michael Green', 'Glenn Ficarra', 'John Requa'],\n",
              " 'Starring': ['Dwayne Johnson',\n",
              "  'Emily Blunt',\n",
              "  'Édgar Ramírez',\n",
              "  'Jack Whitehall',\n",
              "  'Jesse Plemons',\n",
              "  'Paul Giamatti'],\n",
              " 'Story by': ['John Norville',\n",
              "  'Josh Goldstein',\n",
              "  'Glenn Ficarra',\n",
              "  'John Requa'],\n",
              " 'title': 'Jungle Cruise'}"
            ]
          },
          "metadata": {},
          "execution_count": 22
        }
      ]
    },
    {
      "cell_type": "markdown",
      "source": [
        "running time clean\n"
      ],
      "metadata": {
        "id": "bbH0wZ13diXE"
      }
    },
    {
      "cell_type": "code",
      "source": [
        "print([movie.get('Running time', 'N/A') for movie in movie_info_list])"
      ],
      "metadata": {
        "colab": {
          "base_uri": "https://localhost:8080/"
        },
        "id": "OXdBVm2IRp8g",
        "outputId": "643fb4d9-a320-4acf-d45f-b94400f6bea1"
      },
      "execution_count": null,
      "outputs": [
        {
          "output_type": "stream",
          "name": "stdout",
          "text": [
            "['41 minutes (74 minutes 1966 release)', '83 minutes', '88 minutes', '126 minutes', '74 minutes', '64 minutes', '70 minutes', '42 minutes', '70 min', '71 minutes', '75 minutes', '94 minutes', '73 minutes', '75 minutes', '82 minutes', '68 minutes', '74 minutes', '96 minutes', '75 minutes', '84 minutes', '77 minutes', '92 minutes', '69 minutes', '81 minutes', ['60 minutes (VHS version)', '71 minutes (original)'], '127 minutes', '93 minutes', '76 minutes', '75 minutes', '73 minutes', '85 minutes', '81 minutes', '70 minutes', '90 min.', '80 minutes', '75 minutes', '83 minutes', '83 minutes', '72 minutes', '97 minutes', '75 minutes', '104 minutes', '93 minutes', '105 minutes', '95 minutes', '97 minutes', '134 minutes', '69 minutes', '92 minutes', '126 minutes', '79 minutes', '97 minutes', '128 minutes', '73 minutes', '91 minutes', '105 minutes', '98 minutes', '130 minutes', '89 minutes', '93 minutes', '67 minutes', '98 minutes', '100 minutes', '118 minutes', '103 minutes', '110 minutes', '80 min.', '74 minutes', '91 minutes', '91 minutes', '97 minutes', '118 minutes', '139 minutes', '131 mins.', '92 minutes', '87 minutes', '116 minutes', '93 minutes', '110 min.', '110 min.', '131 minutes', '101 minutes', '108 minutes', '84 minutes', '78 minutes', '75 minutes', ['164 minutes', '(', 'Los Angeles', 'premiere)', '144 minutes', '(', 'New York City', 'premiere)', '118 minutes', '(General release)', '172 minutes', '(', \"Director's cut\", ')'], '106 minutes', '110 minutes', '99 minutes', '113 mins.', '108 minutes', '112 minutes', '93 minutes', '91 minutes', '93 minutes', '100 minutes', '100 minutes', '79 minutes', '96 minutes', '113 minutes', '89 minutes', ['117 minutes (1971 original version)', '139 minutes (1996 reconstruction version)'], '92 minutes', '88 minutes', '92 minutes', '87 minutes', '93 minutes', '93 minutes', '93 minutes', '90 Minutes', '83 minutes', '96 minutes', '88 minutes', '89 minutes', '91 minutes', '93 minutes', '92 minutes', '97 minutes', '100 minutes', '100 minutes', '89 minutes', 'N/A', '91 minutes', '112 minutes', '115 minutes', '95 minutes', '91 min.', '97 minutes', '104 minutes', '74 minutes', '48 minutes', '77 minutes', '104 minutes', '128 minutes', '101 minutes', '94 minutes', '104 minutes', '90 minutes', '100 minutes', '88 minutes', '93 minutes', '98 minutes', '112 minutes', '84 minutes', '97 minutes', '97 minutes', '114 minutes', '96 minutes', '97 minutes', '109 minutes', '83 minutes', '90 minutes', '107 minutes', '96 minutes', '103 minutes', '91 min', '95 minutes', '105 minutes', '113 minutes', '80 minutes', '101 minutes', '90 minutes', '74 minutes', '90 minutes', '89 minutes', '110 minutes', '74 minutes', '93 minutes', '84 minutes', '83 minutes', '74 minutes', '77 minutes', '107 minutes', '93 minutes', '88 minutes', '108 minutes', '84 minutes', '121 minutes', '89 minutes', '104 minutes', '90 minutes', '86 minutes', '84 minutes', '108 minutes', '107 minutes', '96 minutes', '98 minutes', '105 minutes', '108 minutes', '94 minutes', '106 minutes', '102 minutes', '88 minutes', '102 minutes', '102 minutes', '97 minutes', '111 minutes', '100 minutes', '96 minutes', '98 minutes', '78 minutes', '81 minutes', '108 minutes', '89 minutes', '99 minutes', '89 minutes', '81 minutes', '92 minutes', '100 minutes', '89 minutes', '79 minutes', '91 minutes', '101 minutes', '104 minutes', '103 minutes', '86 minutes', '105 minutes', '75 minutes', '93 minutes', '92 minutes', '98 minutes', '95 minutes', '93 minutes', '87 minutes', '93 minutes', '87 minutes', '128 minutes', '77 minutes', '86 minutes', '95 minutes', '114 minutes', '93 minutes', '83 minutes', '83 minutes', '88 minutes', '78 minutes', '112 minutes', '92 minutes', '78 minutes', '72 minutes', '82 minutes', '75 minutes', '104 minutes', '75 minutes', '113 minutes', '100 minutes', '78 minutes', '83 minutes', '69 minutes', '96 minutes', '115 minutes', '86 minutes', '92 minutes', '65 minutes', '99 minutes', '73 minutes', '73 minutes', '66 minutes', '128 minutes', '85 minutes', '88 minutes', '125 minutes', '96 minutes', '104 minutes', '95 minutes', '74 minutes', '72 minutes', '88 minutes', '75 minutes', '61 minutes', '117 minutes', '94 minutes', '100 minutes', '143 minutes', '96 minutes', '64 minutes', '87 minutes', '85 minutes', '86 minutes', '50 minutes', '74 minutes', '136 minutes', '76 minutes', '85 minutes', '65 minutes', '76 minutes', '40 minutes', '120 minutes', '84 minutes', '113 minutes', '65 minutes', '115 minutes', '67 minutes', '131 minutes', '100 minutes', '79 minutes', '68 minutes', '95 minutes', '97 minutes', '75 minutes', '100 minutes', '119 minutes', '100 minutes', '76 minutes', '68 minutes', '67 minutes', '120 minutes', '81 minutes', '143 minutes', '72 minutes', '118 minutes', '40 minutes', '72 minutes', '120 minutes', '99 minutes', '82 minutes', '117 minutes', '72 minutes', '150 minutes', '104 minutes', '73 minutes', '76 minutes', '92 minutes', '69 minutes', '70 minutes', '95 minutes', '94 minutes', '167 minutes', '111 minutes', '85 minutes', '82 minutes', '87 minutes', '110 minutes', '107 minutes', '124 minutes', '74 minutes', '82 minutes', '150 minutes', '97 minutes', '77 minutes', '91 minutes', '100 minutes', '112 minutes', '93 minutes', '78 minutes', '96 minutes', '99 minutes', ['76 minutes', '85 minutes'], '98 minutes', '97 minutes', ['99 minutes (UK)', '90 minutes (U.S.)'], '101 minutes', '96 minutes', 'N/A', '90 minutes', '101 minutes', '107 minutes', '82 minutes', '101 minutes', '96 minutes', '88 minutes', '97 minutes', '108 minutes', ['104 minutes (Original cut)', '84 minutes (Disney cut)'], '116 minutes', '103 minutes', '109 minutes', '115 minutes', '74 minutes', '79 minutes', '123 minutes', '108 minutes', '100 minutes', '125 minutes', 'N/A', '84 minutes', '90 minutes', '88 minutes', '109 minutes', '89 minutes', '104 minutes', '137 minutes', '106 minutes', '63 minutes', '88 minutes', '103 minutes', '93 minutes', '95 minutes', '132 minutes', '77 minutes', '96 minutes', '93 minutes', '104 minutes', '89 minutes', '87 minutes', '75 minutes', '101 minutes', '130 minutes', '77 minutes', '104 minutes', '149 minutes', '92 minutes', '81 minutes', '102 minutes', '125 minutes', '107 minutes', '78 minutes', '77 minutes', '124 minutes', '97 minutes', '84 minutes', '127 minutes', '81 minutes', '102 minutes', '124 minutes', '129 minutes', '76 minutes', '106 minutes', '82 minutes', '130 minutes', '95 minutes', '154 minutes', '97 minutes', '117 minutes', '108 minutes', '106 minutes', '99 minutes', '113 minutes', '97 minutes', '118 minutes', '103 minutes', '124 minutes', '107 minutes', '161 minutes', '80 minutes', '129 minutes', '76 minutes', '129 minutes', '102 minutes', 'N/A', '162 minutes', '114 minutes', '105 minutes', '109 minutes', '118 minutes', '104 minutes', '99 minutes', '112 minutes', '131 minutes', '112 minutes', '76 minutes', '128 minutes', '100 minutes', '118 minutes', '119 minutes', '104 minutes', '100 minutes', '104 minutes', '114 minutes', '99 minutes', '102 minutes', '107 minutes', '78 minutes', '86 minutes', '95 minutes', '160 minutes', '85 minutes', '100 minutes', '95 minutes', '115 minutes', '110 minutes', '122 minutes', '101 minutes', '121 minutes', '95 minutes', '107 minutes', '134 minutes', '95 minutes', '128 minutes', '109 minutes', '58 minutes', 'N/A', '82 minutes', '99 minutes', '107 minutes', 'N/A', 'N/A', 'N/A', 'N/A', 'N/A', 'N/A', 'N/A', 'N/A', '58 minutes', 'N/A', 'N/A', 'N/A', 'N/A', '102 minutes', 'N/A', '81 minutes', '70 minutes', 'N/A', 'N/A', '93 minutes', '91 minutes', '78 minutes', '85 minutes', '124 minutes', '83 minutes', 'N/A', 'N/A', '107 minutes', 'N/A', '79 minutes', '74 minutes', ['468 minutes'], '108 minutes']\n"
          ]
        }
      ]
    },
    {
      "cell_type": "code",
      "source": [
        "# \"85 minutes\"\n",
        "def minutes_to_integer(running_time):\n",
        "    if running_time == \"N/A\":\n",
        "        return None\n",
        "    \n",
        "    if isinstance(running_time, list):\n",
        "        return int(running_time[0].split(\" \")[0])\n",
        "    else: # is a string\n",
        "        return int(running_time.split(\" \")[0])\n",
        "\n",
        "for movie in movie_info_list:\n",
        "    movie['Running time (int)'] = minutes_to_integer(movie.get('Running time', \"N/A\"))"
      ],
      "metadata": {
        "id": "5c6xP917Rp_K"
      },
      "execution_count": null,
      "outputs": []
    },
    {
      "cell_type": "code",
      "source": [
        "print([movie.get('Running time (int)', 'N/A') for movie in movie_info_list])"
      ],
      "metadata": {
        "colab": {
          "base_uri": "https://localhost:8080/"
        },
        "id": "VWYBVra3RqBu",
        "outputId": "9b587912-65db-45f4-c9e2-a31937370a68"
      },
      "execution_count": null,
      "outputs": [
        {
          "output_type": "stream",
          "name": "stdout",
          "text": [
            "[41, 83, 88, 126, 74, 64, 70, 42, 70, 71, 75, 94, 73, 75, 82, 68, 74, 96, 75, 84, 77, 92, 69, 81, 60, 127, 93, 76, 75, 73, 85, 81, 70, 90, 80, 75, 83, 83, 72, 97, 75, 104, 93, 105, 95, 97, 134, 69, 92, 126, 79, 97, 128, 73, 91, 105, 98, 130, 89, 93, 67, 98, 100, 118, 103, 110, 80, 74, 91, 91, 97, 118, 139, 131, 92, 87, 116, 93, 110, 110, 131, 101, 108, 84, 78, 75, 164, 106, 110, 99, 113, 108, 112, 93, 91, 93, 100, 100, 79, 96, 113, 89, 117, 92, 88, 92, 87, 93, 93, 93, 90, 83, 96, 88, 89, 91, 93, 92, 97, 100, 100, 89, None, 91, 112, 115, 95, 91, 97, 104, 74, 48, 77, 104, 128, 101, 94, 104, 90, 100, 88, 93, 98, 112, 84, 97, 97, 114, 96, 97, 109, 83, 90, 107, 96, 103, 91, 95, 105, 113, 80, 101, 90, 74, 90, 89, 110, 74, 93, 84, 83, 74, 77, 107, 93, 88, 108, 84, 121, 89, 104, 90, 86, 84, 108, 107, 96, 98, 105, 108, 94, 106, 102, 88, 102, 102, 97, 111, 100, 96, 98, 78, 81, 108, 89, 99, 89, 81, 92, 100, 89, 79, 91, 101, 104, 103, 86, 105, 75, 93, 92, 98, 95, 93, 87, 93, 87, 128, 77, 86, 95, 114, 93, 83, 83, 88, 78, 112, 92, 78, 72, 82, 75, 104, 75, 113, 100, 78, 83, 69, 96, 115, 86, 92, 65, 99, 73, 73, 66, 128, 85, 88, 125, 96, 104, 95, 74, 72, 88, 75, 61, 117, 94, 100, 143, 96, 64, 87, 85, 86, 50, 74, 136, 76, 85, 65, 76, 40, 120, 84, 113, 65, 115, 67, 131, 100, 79, 68, 95, 97, 75, 100, 119, 100, 76, 68, 67, 120, 81, 143, 72, 118, 40, 72, 120, 99, 82, 117, 72, 150, 104, 73, 76, 92, 69, 70, 95, 94, 167, 111, 85, 82, 87, 110, 107, 124, 74, 82, 150, 97, 77, 91, 100, 112, 93, 78, 96, 99, 76, 98, 97, 99, 101, 96, None, 90, 101, 107, 82, 101, 96, 88, 97, 108, 104, 116, 103, 109, 115, 74, 79, 123, 108, 100, 125, None, 84, 90, 88, 109, 89, 104, 137, 106, 63, 88, 103, 93, 95, 132, 77, 96, 93, 104, 89, 87, 75, 101, 130, 77, 104, 149, 92, 81, 102, 125, 107, 78, 77, 124, 97, 84, 127, 81, 102, 124, 129, 76, 106, 82, 130, 95, 154, 97, 117, 108, 106, 99, 113, 97, 118, 103, 124, 107, 161, 80, 129, 76, 129, 102, None, 162, 114, 105, 109, 118, 104, 99, 112, 131, 112, 76, 128, 100, 118, 119, 104, 100, 104, 114, 99, 102, 107, 78, 86, 95, 160, 85, 100, 95, 115, 110, 122, 101, 121, 95, 107, 134, 95, 128, 109, 58, None, 82, 99, 107, None, None, None, None, None, None, None, None, 58, None, None, None, None, 102, None, 81, 70, None, None, 93, 91, 78, 85, 124, 83, None, None, 107, None, 79, 74, 468, 108]\n"
          ]
        }
      ]
    },
    {
      "cell_type": "markdown",
      "source": [
        "budget clean"
      ],
      "metadata": {
        "id": "OviTkEcVdkND"
      }
    },
    {
      "cell_type": "code",
      "source": [
        "print([movie.get('Budget', 'N/A') for movie in movie_info_list])"
      ],
      "metadata": {
        "colab": {
          "base_uri": "https://localhost:8080/"
        },
        "id": "-wDiUe20RqEZ",
        "outputId": "401f8dea-3607-4bee-d9bd-6c9df2bdbc5e"
      },
      "execution_count": null,
      "outputs": [
        {
          "output_type": "stream",
          "name": "stdout",
          "text": [
            "['N/A', '$1.49 million', '$2.6 million', '$2.28 million', '$600,000', '$950,000', '$858,000', 'N/A', '$788,000', 'N/A', '$1.35 million', '$2.125 million', 'N/A', '$1.5 million', '$1.5 million', 'N/A', '$2.2 million', '$1,800,000', '$3 million', 'N/A', '$4 million', '$2 million', '$300,000', '$1.8 million', 'N/A', '$5 million', 'N/A', '$4 million', 'N/A', 'N/A', 'N/A', 'N/A', 'N/A', 'N/A', '$700,000', 'N/A', 'N/A', 'N/A', 'N/A', 'N/A', '$6 million', 'under $1 million or $1,250,000', 'N/A', '$2 million', 'N/A', 'N/A', '$2.5 million', 'N/A', 'N/A', '$4 million', '$3.6 million', 'N/A', 'N/A', 'N/A', 'N/A', '$3 million', 'N/A', '$3 million', 'N/A', 'N/A', 'N/A', 'N/A', 'N/A', 'N/A', 'N/A', 'N/A', 'N/A', '$3 million', 'N/A', 'N/A', 'N/A', 'N/A', '$4.4–6 million', 'N/A', 'N/A', 'N/A', 'N/A', 'N/A', 'N/A', 'N/A', 'N/A', 'N/A', 'N/A', 'N/A', '$4 million', 'N/A', '$5 million', 'N/A', 'N/A', 'N/A', 'N/A', '$5 million', 'N/A', 'N/A', 'N/A', 'N/A', 'N/A', 'N/A', '$4 million', 'N/A', 'N/A', 'N/A', '$6.3 million', 'N/A', 'N/A', 'N/A', 'N/A', 'N/A', 'N/A', 'N/A', 'N/A', '$5 million', 'N/A', 'N/A', 'N/A', 'N/A', '$8 million', 'N/A', 'N/A', 'N/A', 'N/A', 'N/A', 'N/A', 'AU$1 million', 'N/A', 'N/A', 'N/A', 'N/A', '$5 million', 'N/A', 'N/A', 'N/A', '$7.5 million', 'N/A', '$10 million', 'N/A', 'N/A', '$3.5 to 4 million', 'N/A', 'N/A', 'N/A', '$5.25 million', '$20 million', 'N/A', '$9 million', 'N/A', '$6-8 million', '$20 million', 'N/A', 'N/A', '$18 million', '$12 million', '$14 million', 'N/A', '$17 million', '$5 million', 'unknown', '$20 million', '$11 million', '$28 million', '$44 million', 'N/A', 'N/A', '$14 million', '$9 million', 'N/A', 'A$8.7 million', '$31 million', '$18 million', '$5 million', '$40 million', '$20 million', 'N/A', '$14 million', '60 million Norwegian Kroner (around $8.7 million in 1989)', 'N/A', '$35-40 million', '$25 million', '$15 million', '$32 million', '$14 million', '$28 million', '$12 million', 'N/A', 'N/A', '$6.5 million', '$28 million', '$17 million', '$30 million', 'N/A', '$13 million', 'N/A', 'N/A', '$45 million', '$31 million', 'N/A', '$22 million', '$30 million', 'N/A', '$22 million', ['$32 million', '(estimated)'], '$18 million', '$55 million', '$24 million', '$15 million', '$12 million', 'N/A', '$30 million', 'N/A', '$31 million', 'N/A', '$38 million', '$70 million', '$15 million', 'N/A', '$67 million', 'N/A', '$32 million', '$7 million', '$85 million', '$55 million', '$3 million', '$16 million', '$80 million', '$30 million', '$24 million', '$90 million', '$15 million', 'N/A', '$30 million', '$120 million', '$90 million', '$65 million', '$5 million', 'N/A', '$130 million', '$75–90 million', '$10 million', '$90 million', '$15 million –$30 million', '$4,000,000 (estimated)', '$127.5 million', '$80–$85 million', '$65 million', 'N/A', '$30 million', '$85 million', '$100 million', '$23 million', 'N/A', '$90–120 million', '$26 million', '$25 million', '$115 million', 'N/A', '$33 million', '$20 million', '$5 million', 'N/A', '$22 million', '$80 million', '$35 million', '(US$15–19.2 million)', '$15 million', '$65 million', '$140 million', 'N/A', '$20 million', '$12 million', '$46 million', '$13 million', '$20 million', '$17 million', '$94 million', '$140 million', '$26 million', 'N/A', 'N/A', '$46 million', '$90 million', 'N/A', '$10 million', '$28 million', 'N/A', '$15 million', 'N/A', '$110 million', 'N/A', '$110 million', 'N/A', '$45 million', 'N/A', '$92–145 million', 'N/A', '$100 million', 'N/A', 'N/A', '$20 million', '$56 million', '$25 million', 'N/A', '$50 million', ['¥', '2.4 billion', 'US$24 million'], '$35 million', '$35 million', 'N/A', 'N/A', '$25 million', '$150 million', '$180 million', 'N/A', '$30 million', '$1 million', 'N/A', '$40 million', '$50 million', '$80 million', '$120 million', 'N/A', '$225 million', '$30 million', 'N/A', '$24 million', '$12 million', 'N/A', 'N/A', '$17 million', '$150 million', '$300 million', '$150 million', 'N/A', '$25 million', 'N/A', '$22 million', '$85 million', '$130 million', '$7 million', '$25 million', '$225 million', '$180 million', 'N/A', '$20 million', 'N/A', '$11 million', 'N/A', '$50 million', '$150 million', '$80 million', 'N/A', '$50 million', '$30 million', '$47 million', 'N/A', '$175 million', 'N/A', '$150 million', ['¥', '3.4 billion', '(', 'US$', '34 million)'], 'N/A', '$30—$35 million', '$8 million ( ₽ 350 million)', '$175–200 million', '$35 million', '$105 million', '$150 –$200 million', '$80 million', '$150–200 million', '$200 million', '$150 million', '$22 million', 'N/A', '$30—$35 million', '$35 million', 'N/A', '$260 million', '$170 million', '', 'N/A', 'N/A', '$150 million', 'N/A', '$5 million', '$8 million', ['$410.6 million (gross)', '$378.5 million (net)'], '$200 million', '$30 million', 'N/A', '$45 million', 'N/A', '$23 million', ['$306.6 million (gross)', '$263.7 million (net)'], '$5 million', 'N/A', '$185 million', '$25 million', 'N/A', '$39 million', '$30—35 million', '$165 million', '$200 million', 'N/A', '$200 million', '$225–250 million', '$50 million', 'N/A', '$150 million', '$35 million', '$50 million', 'N/A', '$5 million', '$25 million', '$180–263 million', '$50 million', '(US$3.0 million)', '$28 million', '$165 million', '$50 million', '$17 million', 'N/A', '$84.21-95 million', '$5–10 million', '$180–190 million', '$175 million', '', '$175–200 million', '$70–80 million', '$150 million', '$175–177 million', 'N/A', '$170 million', '$175–200 million', '$140 million', '$65 million', '$15 million', '$150–175 million', '', '$8 million', '$160–255 million', '$5–10 million', '$230–320 million', '$175 million', 'N/A', ['131 crore'], ['~$8 million', '₽', '370 million'], '$175–225 million', '$100–130 million', '$200 million', '$75 million', '$120–133 million', '$175 million', '$130 million', '$170 million', 'N/A', '$183 million', '$200 million', '$250–260 million', '$185 million', '$60 million', 'N/A', '$150 million', '$40 million', '$42 million', '$175–200 million', 'N/A', 'N/A', 'N/A', '$125 million', '$12.5 million (stage production)', 'N/A', '$24 million', 'N/A', '$200 million', 'Unknown', '$26 million', '$150 million', '₽ 650 million', 'N/A', '$100 million+', '$100–200 million', 'N/A', '$200 million', '$120–150 million', 'N/A', '₽ 454 237 000', 'N/A', '$175 million', 'N/A', 'N/A', 'N/A', 'N/A', 'N/A', 'N/A', 'N/A', 'N/A', 'N/A', 'N/A', 'N/A', 'N/A', 'N/A', 'N/A', '$11 million', 'N/A', '$28 million', '$858,000', '$53.4 million', 'N/A', '$85 million', '$70 million', '$75–90 million', '$80 million', '$130 million', '$5 million', 'N/A', 'N/A', '$18 million or $25 million', 'N/A', '$4 million', '$3 million', 'N/A', '$35-40 million']\n"
          ]
        }
      ]
    },
    {
      "cell_type": "code",
      "source": [
        "import re\n",
        "\n",
        "amounts = r\"thousand|million|billion\"\n",
        "number = r\"\\d+(,\\d{3})*\\.*\\d*\"\n",
        "\n",
        "word_re = rf\"\\${number}(-|\\sto\\s|–)?({number})?\\s({amounts})\"\n",
        "value_re = rf\"\\${number}\"\n",
        "\n",
        "def word_to_value(word):\n",
        "    value_dict = {\"thousand\": 1000, \"million\": 1000000, \"billion\": 1000000000}\n",
        "    return value_dict[word]\n",
        "\n",
        "def parse_word_syntax(string):\n",
        "    value_string = re.search(number, string).group()\n",
        "    value = float(value_string.replace(\",\", \"\"))\n",
        "    word = re.search(amounts, string, flags=re.I).group().lower()\n",
        "    word_value = word_to_value(word)\n",
        "    return value*word_value\n",
        "\n",
        "def parse_value_syntax(string):\n",
        "    value_string = re.search(number, string).group()\n",
        "    value = float(value_string.replace(\",\", \"\"))\n",
        "    return value\n",
        "\n",
        "'''\n",
        "money_conversion(\"$12.2 million\") --> 12200000 ## Word syntax\n",
        "money_conversion(\"$790,000\") --> 790000        ## Value syntax\n",
        "'''\n",
        "def money_conversion(money):\n",
        "    if money == \"N/A\":\n",
        "        return None\n",
        "\n",
        "    if isinstance(money, list):\n",
        "        money = money[0]\n",
        "        \n",
        "    word_syntax = re.search(word_re, money, flags=re.I)\n",
        "    value_syntax = re.search(value_re, money)\n",
        "\n",
        "    if word_syntax:\n",
        "        return parse_word_syntax(word_syntax.group())\n",
        "\n",
        "    elif value_syntax:\n",
        "        return parse_value_syntax(value_syntax.group())\n",
        "\n",
        "    else:\n",
        "        return None"
      ],
      "metadata": {
        "id": "8znc8q9dRqG6"
      },
      "execution_count": null,
      "outputs": []
    },
    {
      "cell_type": "code",
      "source": [
        "for movie in movie_info_list:\n",
        "    movie['Budget (float)'] = money_conversion(movie.get('Budget', \"N/A\"))\n",
        "    movie['Box office (float)'] = money_conversion(movie.get('Box office', \"N/A\"))"
      ],
      "metadata": {
        "id": "AJTQmsUxRUDR"
      },
      "execution_count": null,
      "outputs": []
    },
    {
      "cell_type": "code",
      "source": [
        "money_conversion(str(movie_info_list[-40][\"Budget\"]))"
      ],
      "metadata": {
        "colab": {
          "base_uri": "https://localhost:8080/"
        },
        "id": "Vwi3QRiHRUF5",
        "outputId": "0f021916-efec-4020-885e-a93ee78ac996"
      },
      "execution_count": null,
      "outputs": [
        {
          "output_type": "execute_result",
          "data": {
            "text/plain": [
              "200000000.0"
            ]
          },
          "metadata": {},
          "execution_count": 29
        }
      ]
    },
    {
      "cell_type": "code",
      "source": [
        "# Convert Dates into datetimes\n",
        "print([movie.get('Release date', 'N/A') for movie in movie_info_list])"
      ],
      "metadata": {
        "colab": {
          "base_uri": "https://localhost:8080/"
        },
        "id": "ZeXTnX0ndveJ",
        "outputId": "826446f4-9195-4e95-9ded-9142e91dfe0a"
      },
      "execution_count": null,
      "outputs": [
        {
          "output_type": "stream",
          "name": "stdout",
          "text": [
            "[['May 19, 1937'], 'N/A', 'N/A', ['November 13, 1940'], ['June 27, 1941'], 'N/A', 'N/A', 'N/A', ['July 17, 1943'], 'N/A', 'N/A', 'N/A', ['September 27, 1947'], 'May 27, 1948', 'N/A', ['October 5, 1949'], 'N/A', 'N/A', 'N/A', 'N/A', ['February 5, 1953 (United States)'], ['July 23, 1953 (US)'], ['November 10, 1953'], 'N/A', ['August 17, 1954'], ['December 23, 1954'], 'May 25, 1955', ['June 22, 1955'], ['September 14, 1955'], 'December 22, 1955', 'June 8, 1956', 'July 18, 1956', ['September 4, 1956'], ['December 20, 1956'], 'June 19, 1957', 'August 28, 1957', ['December 25, 1957'], ['July 8, 1958'], ['August 12, 1958'], ['December 25, 1958'], ['January 29, 1959'], ['March 19, 1959'], 'N/A', ['November 10, 1959'], 'January 21, 1960 ( Sarasota, FL )', ['February 24, 1960'], 'May 19, 1960', 'N/A', ['November 1, 1960'], ['December 21, 1960'], ['January 25, 1961'], 'March 16, 1961', ['June 21, 1961'], ['July 12, 1961'], ['July 17, 1961'], ['December 14, 1961'], 'April 5, 1962', ['May 17, 1962'], ['June 6, 1962'], 'September 26, 1962', ['November 7, 1962 (Los Angeles)'], 'N/A', ['January 16, 1963'], ['March 29, 1963 (U.S.)'], ['June 1, 1963'], ['July 7, 1963'], 'November 20, 1963', ['December 25, 1963'], ['March 12, 1964'], ['February 11, 1964 (Los Angeles)'], 'N/A', ['July 2, 1964'], 'N/A', 'November 10, 1964', ['December 18, 1964'], ['August 18, 1965 (Los Angeles)'], ['December 2, 1965'], 'N/A', 'N/A', 'October 1, 1966', ['December 1, 1966'], ['February 8, 1967 (San Francisco)'], ['June 15, 1967'], ['July 12, 1967'], ['October 18, 1967'], ['October 19, 1967'], 'N/A', ['February 8, 1968'], ['March 21, 1968 ( Radio City Music Hall )'], ['June 26, 1968'], ['December 3, 1968'], 'N/A', ['May 9, 1969'], 'September 4, 1969', ['November 28, 1969'], ['February 11, 1970'], 'July 1, 1970', 'N/A', 'N/A', 'March 17, 1971', 'June 22, 1971', ['June 30, 1971'], ['October 7, 1971'], ['March 22, 1972 (US)'], 'July 12, 1972', ['July 5, 1972'], ['October 18, 1972'], ['December 22, 1972'], 'February 1, 1973', ['March 23, 1973'], ['June 20, 1973'], ['November 8, 1973'], ['December 14, 1973'], ['June 6, 1974'], ['July 31, 1974'], ['August 1, 1974'], 'December 20, 1974 (with Winnie the Pooh and Tigger Too )', ['February 6, 1975'], ['March 21, 1975 (United States)'], ['July 1, 1975'], ['July 9, 1975'], ['October 8, 1975'], ['1948–1960'], 'December 25, 1975', ['February 11, 1976 (Los Angeles)'], ['July 1, 1976'], ['July 7, 1976'], ['December 16, 1976'], ['December 17, 1976'], 'N/A', ['March 11, 1977'], ['June 20, 1977'], ['June 22, 1977'], ['June 24, 1977'], ['November 3, 1977'], 'December 16, 1977', ['March 10, 1978'], ['June 30, 1978 (New York)'], 'July 5, 1978', 'February 9, 1979', ['June 27, 1979'], 'N/A', 'N/A', ['February 8, 1980'], 'N/A', ['June 27, 1980'], ['July 9, 1980 (Los Angeles)'], 'N/A', 'February 11, 1981 (Los Angeles)', 'March 20, 1981', ['June 26, 1981'], ['July 10, 1981'], ['August 7, 1981'], ['February 5, 1982'], ['July 9, 1982'], 'July 30, 1982', ['March 11, 1983'], ['April 29, 1983 (United States)'], 'N/A', ['June 21, 1985 (United States)'], ['July 24, 1985'], ['September 27, 1985'], ['November 22, 1985'], ['July 2, 1986'], ['August 1, 1986'], ['June 5, 1987'], ['24 March 1988 (Australia)'], ['November 18, 1988'], ['June 23, 1989'], 'August 18, 1989', ['November 17, 1989'], ['August 3, 1990'], ['November 16, 1990'], ['January 18, 1991'], 'N/A', ['May 24, 1991'], ['June 21, 1991'], 'N/A', ['April 10, 1992'], ['July 17, 1992'], ['October 2, 1992'], ['November 25, 1992'], ['December 11, 1992'], 'February 3, 1993', ['March 12, 1993'], ['April 2, 1993'], ['July 16, 1993'], ['October 1, 1993'], ['November 12, 1993'], ['January 14, 1994'], ['February 11, 1994'], ['March 25, 1994'], ['April 14, 1994'], ['June 15, 1994 (United States)'], ['July 15, 1994'], ['October 28, 1994'], ['November 11, 1994'], ['December 25, 1994'], ['February 17, 1995'], ['March 3, 1995'], ['March 24, 1995'], ['April 7, 1995'], 'N/A', ['July 28, 1995'], ['August 11, 1995'], ['September 27, 1995'], 'N/A', 'N/A', ['December 22, 1995'], ['February 16, 1996'], ['March 8, 1996'], 'N/A', 'N/A', ['December 20, 1996'], ['October 4, 1996'], ['November 27, 1996 (United States)'], ['February 14, 1997'], 'N/A', 'March 18, 1997', ['June 13, 1997 (United States)'], ['July 16, 1997'], ['August 1, 1997'], ['October 10, 1997'], 'N/A', ['December 25, 1997'], ['March 27, 1998 (United States)'], ['June 19, 1998'], ['July 29, 1998 (United States)'], 'September 29, 1998', ['November 13, 1998'], ['November 20, 1998'], ['December 25, 1998'], ['February 12, 1999'], ['March 26, 1999'], ['May 14, 1999'], 'N/A', ['July 23, 1999'], 'N/A', 'N/A', 'February 11, 2000', ['March 10, 2000'], ['May 19, 2000 (United States)'], 'N/A', ['July 7, 2000'], ['September 19, 2000'], ['September 29, 2000'], ['November 22, 2000 (United States)'], 'N/A', 'N/A', ['February 27, 2001'], 'N/A', 'N/A', ['October 5, 2001'], 'N/A', ['November 6, 2001'], ['January 18, 2002'], 'N/A', ['February 26, 2002'], ['March 19, 2002'], ['March 29, 2002'], 'N/A', 'N/A', ['20 July 2001 (Japan)'], ['October 11, 2002 (U.S.)'], ['November 1, 2002'], ['November 27, 2002'], ['January 21, 2003'], ['February 14, 2003'], ['March 11, 2003'], 'N/A', 'N/A', ['April 18, 2003 (United States)'], ['May 2, 2003 (United States)'], ['May 30, 2003'], 'N/A', 'N/A', ['August 26, 2003'], ['October 21, 2003'], ['November 1, 2003'], ['November 26, 2003'], ['December 25, 2003'], ['January 16, 2004'], ['February 20, 2004'], ['February 10, 2004'], ['February 17, 2004 (United States)'], ['March 9, 2004'], ['April 2, 2004'], ['April 22, 2004'], ['June 16, 2004'], ['July 2, 2004'], ['August 11, 2004'], ['August 17, 2004'], 'N/A', ['November 9, 2004'], ['November 19, 2004'], ['January 28, 2005'], 'N/A', ['February 11, 2005'], ['March 4, 2005'], ['March 18, 2005'], ['June 14, 2005'], 'N/A', 'N/A', ['July 29, 2005'], 'N/A', ['August 30, 2005'], ['September 13, 2005'], ['September 30, 2005'], 'N/A', 'N/A', 'December 13, 2005', 'January 13, 2006', ['January 27, 2006'], 'N/A', ['February 17, 2006 (United States)'], ['March 10, 2006'], ['April 14, 2006'], 'N/A', 'N/A', 'N/A', ['August 25, 2006'], ['August 29, 2006'], 'N/A', ['November 3, 2006'], ['December 12, 2006'], ['February 6, 2007'], ['February 16, 2007'], 'N/A', 'N/A', 'N/A', ['June 29, 2007'], ['August 3, 2007'], ['August 28, 2007'], 'N/A', 'N/A', ['December 21, 2007'], 'February 1, 2008', ['March 7, 2008'], 'N/A', 'N/A', ['August 26, 2008'], ['October 3, 2008 (United States)'], 'October 17, 2008', 'N/A', 'N/A', ['October 28, 2008'], ['November 21, 2008'], ['December 25, 2008'], ['February 27, 2009'], 'N/A', ['April 10, 2009'], 'N/A', 'N/A', 'N/A', 'N/A', ['July 24, 2009'], ['July 19, 2008'], ['2008'], 'N/A', ['October 29, 2009'], 'N/A', ['November 25, 2009'], 'N/A', 'N/A', 'N/A', 'N/A', 'N/A', 'N/A', ['July 29, 2006'], 'N/A', 'N/A', 'N/A', ['8 October 2010'], 'N/A', 'N/A', ['14 January 2011 (India)'], ['February 1, 2011'], ['17 February 2011'], 'N/A', ['22 April 2011'], 'N/A', ['April 29, 2011'], 'N/A', 'N/A', 'N/A', ['September 20, 2011'], 'N/A', ['January 31, 2012'], ['17 July 2010'], 'N/A', 'N/A', ['25 May 2012'], 'N/A', ['August 15, 2012'], ['September 18, 2012'], 'N/A', 'N/A', 'N/A', 'N/A', 'N/A', 'N/A', 'N/A', 'N/A', ['August 27, 2013'], 'N/A', 'N/A', 'N/A', 'N/A', ['April 18, 2014 (United States)'], 'N/A', 'N/A', 'N/A', ['19 September 2014'], 'N/A', 'N/A', 'N/A', 'N/A', 'N/A', 'N/A', ['April 17, 2015 (United States)'], 'N/A', 'N/A', ['19 June 2015'], 'N/A', 'N/A', 'N/A', 'N/A', 'N/A', 'N/A', 'N/A', 'N/A', 'N/A', 'N/A', 'N/A', 'N/A', ['24 June 2005'], 'N/A', 'N/A', 'N/A', 'N/A', ['June 30, 2017 (United States)'], ['14 July 2017'], ['October 29, 2017 ( Russia )'], 'N/A', 'N/A', 'N/A', 'N/A', 'N/A', 'N/A', 'N/A', 'N/A', ['April 17, 2019 (United States)'], 'N/A', 'N/A', 'N/A', ['October 18, 2019'], ['November 12, 2019 (United States)'], ['November 12, 2019 (United States)'], 'N/A', ['December 20, 2019 (United States)'], 'N/A', 'N/A', ['March 13, 2020 (United States)'], 'N/A', ['April 3, 2020'], ['June 12, 2020'], ['July 3, 2020'], ['July 31, 2020'], ['August 14, 2020'], ['August 21, 2020 (United States)'], 'N/A', ['December 4, 2020 (United States)'], ['December 11, 2020 (United States)'], 'N/A', ['January 1, 2021 ( Russia )'], ['February 19, 2021 (United States)'], ['March 5, 2021 (United States)'], 'N/A', 'N/A', 'N/A', 'N/A', ['December 3, 2021'], ['December 23, 2021'], 'N/A', 'N/A', 'N/A', 'N/A', ['April 22, 2022'], ['May 20, 2022'], ['June 17, 2022'], ['March 10, 2023'], 'May 26, 2023', 'September 2022', ['2022'], ['December 3, 2021'], ['2022'], 'N/A', 'N/A', ['2022'], ['November 25, 1987'], 'N/A', 'N/A', 'N/A', 'N/A', '1950–present', ['June 13, 1997 (United States)'], 'N/A', ['July 23, 1999'], 'N/A', ['December 21, 2007'], ['November 8, 1973'], 'N/A', 'N/A', ['June 6, 1986 (United States)'], 'N/A', 'N/A', ['December 25, 1963'], 'N/A', ['June 21, 1991']]\n"
          ]
        }
      ]
    },
    {
      "cell_type": "code",
      "source": [
        "movie_info_list[-50]"
      ],
      "metadata": {
        "colab": {
          "base_uri": "https://localhost:8080/"
        },
        "id": "V1azwyKvdvcX",
        "outputId": "bfe88c48-bcd4-4b93-be5b-b5eeba94bde7"
      },
      "execution_count": null,
      "outputs": [
        {
          "output_type": "execute_result",
          "data": {
            "text/plain": [
              "{'Based on': ['The One and Only Ivan', 'by', 'K. A. Applegate'],\n",
              " 'Box office (float)': None,\n",
              " 'Budget (float)': None,\n",
              " 'Cinematography': 'Florian Ballhaus',\n",
              " 'Country': 'United States',\n",
              " 'Directed by': 'Thea Sharrock',\n",
              " 'Distributed by': 'Walt Disney Studios Motion Pictures',\n",
              " 'Edited by': 'Barney Pilling',\n",
              " 'Language': 'English',\n",
              " 'Music by': 'Craig Armstrong',\n",
              " 'Produced by': ['Angelina Jolie', 'Allison Shearmur', 'Brigham Taylor'],\n",
              " 'Production companies': ['Walt Disney Pictures', 'Jolie Pas Productions'],\n",
              " 'Release date': ['August 21, 2020 (United States)'],\n",
              " 'Running time': '95 minutes',\n",
              " 'Running time (int)': 95,\n",
              " 'Screenplay by': 'Mike White',\n",
              " 'Starring': ['Sam Rockwell',\n",
              "  'Angelina Jolie',\n",
              "  'Danny DeVito',\n",
              "  'Helen Mirren',\n",
              "  'Ramón Rodríguez',\n",
              "  'Ariana Greenblatt',\n",
              "  'Bryan Cranston'],\n",
              " 'title': 'The One and Only Ivan'}"
            ]
          },
          "metadata": {},
          "execution_count": 31
        }
      ]
    },
    {
      "cell_type": "code",
      "source": [
        "# June 28, 1950\n",
        "from datetime import datetime\n",
        "\n",
        "dates = [movie.get('Release date', 'N/A') for movie in movie_info_list]\n",
        "\n",
        "def clean_date(date):\n",
        "    return date.split(\"(\")[0].strip()\n",
        "\n",
        "def date_conversion(date):\n",
        "    if isinstance(date, list):\n",
        "        date = date[0]\n",
        "        \n",
        "    if date == \"N/A\":\n",
        "        return None\n",
        "        \n",
        "    date_str = clean_date(date)\n",
        "\n",
        "    fmts = [\"%B %d, %Y\", \"%d %B %Y\"]\n",
        "    for fmt in fmts:\n",
        "        try:\n",
        "            return datetime.strptime(date_str, fmt)\n",
        "        except:\n",
        "            pass\n",
        "    return None"
      ],
      "metadata": {
        "id": "LD8oKGrbdvZy"
      },
      "execution_count": null,
      "outputs": []
    },
    {
      "cell_type": "code",
      "source": [
        "for movie in movie_info_list:\n",
        "    movie['Release date (datetime)'] = date_conversion(movie.get('Release date', 'N/A'))"
      ],
      "metadata": {
        "id": "qk3YGD1rdvXH"
      },
      "execution_count": null,
      "outputs": []
    },
    {
      "cell_type": "code",
      "source": [
        "movie_info_list[50]"
      ],
      "metadata": {
        "colab": {
          "base_uri": "https://localhost:8080/"
        },
        "id": "Qdx1coz5dvUs",
        "outputId": "7478adb9-63ad-45c5-8da9-bd424527a97a"
      },
      "execution_count": null,
      "outputs": [
        {
          "output_type": "execute_result",
          "data": {
            "text/plain": [
              "{'Based on': ['The Hundred and One Dalmatians', 'by', 'Dodie Smith'],\n",
              " 'Box office': '$303 million',\n",
              " 'Box office (float)': 303000000.0,\n",
              " 'Budget': '$3.6 million',\n",
              " 'Budget (float)': 3600000.0,\n",
              " 'Country': 'United States',\n",
              " 'Directed by': ['Clyde Geronimi', 'Hamilton Luske', 'Wolfgang Reitherman'],\n",
              " 'Distributed by': 'Buena Vista Distribution',\n",
              " 'Edited by': ['Roy M. Brewer, Jr.', 'Donald Halliday'],\n",
              " 'Language': 'English',\n",
              " 'Music by': 'George Bruns',\n",
              " 'Produced by': 'Walt Disney',\n",
              " 'Production company': 'Walt Disney Productions',\n",
              " 'Release date': ['January 25, 1961'],\n",
              " 'Release date (datetime)': datetime.datetime(1961, 1, 25, 0, 0),\n",
              " 'Running time': '79 minutes',\n",
              " 'Running time (int)': 79,\n",
              " 'Starring': ['Rod Taylor',\n",
              "  'Cate Bauer',\n",
              "  'Betty Lou Gerson',\n",
              "  'Ben Wright',\n",
              "  'Bill Lee (singing voice)',\n",
              "  'Lisa Davis',\n",
              "  'Martha Wentworth'],\n",
              " 'Story by': 'Bill Peet',\n",
              " 'title': '101 Dalmatians'}"
            ]
          },
          "metadata": {},
          "execution_count": 34
        }
      ]
    },
    {
      "cell_type": "markdown",
      "source": [
        "Pickle in Python is primarily used in serializing and deserializing a Python object structure.\n",
        "\n",
        "pickle file: it's the process of converting a Python object into a byte stream to store it in a file/database, maintain program state across sessions, or transport data over the network"
      ],
      "metadata": {
        "id": "EL9lhxSlev1A"
      }
    },
    {
      "cell_type": "code",
      "source": [
        "import pickle\n",
        "\n",
        "def save_data_pickle(name, data):\n",
        "    with open(name, 'wb') as f:\n",
        "        pickle.dump(data, f)"
      ],
      "metadata": {
        "id": "sUkTrHo6dvSU"
      },
      "execution_count": null,
      "outputs": []
    },
    {
      "cell_type": "code",
      "source": [
        "import pickle\n",
        "\n",
        "def load_data_pickle(name):\n",
        "    with open(name, 'rb') as f:\n",
        "        return pickle.load(f)"
      ],
      "metadata": {
        "id": "GuWXvB1NdvPs"
      },
      "execution_count": null,
      "outputs": []
    },
    {
      "cell_type": "code",
      "source": [
        "save_data_pickle(\"disney_movie_data_cleaned_more.pickle\", movie_info_list)"
      ],
      "metadata": {
        "id": "v3jfQ-h3dvNJ"
      },
      "execution_count": null,
      "outputs": []
    },
    {
      "cell_type": "code",
      "source": [
        "a = load_data_pickle(\"disney_movie_data_cleaned_more.pickle\")"
      ],
      "metadata": {
        "id": "8A8auZOHdvKe"
      },
      "execution_count": null,
      "outputs": []
    },
    {
      "cell_type": "code",
      "source": [
        "a == movie_info_list"
      ],
      "metadata": {
        "colab": {
          "base_uri": "https://localhost:8080/"
        },
        "id": "Ju9L8GW1dvID",
        "outputId": "a2f8c6e4-36b5-4739-bddd-c4e42ea003ad"
      },
      "execution_count": null,
      "outputs": [
        {
          "output_type": "execute_result",
          "data": {
            "text/plain": [
              "True"
            ]
          },
          "metadata": {},
          "execution_count": 39
        }
      ]
    },
    {
      "cell_type": "markdown",
      "source": [
        "# ***Task #4: Attach IMDB/Rotten Tomatoes/Metascore scores***"
      ],
      "metadata": {
        "id": "dDra-geXfrrk"
      }
    },
    {
      "cell_type": "code",
      "source": [
        "movie_info_list = load_data_pickle('disney_movie_data_cleaned_more.pickle')"
      ],
      "metadata": {
        "id": "Qh7bp_QedvFM"
      },
      "execution_count": null,
      "outputs": []
    },
    {
      "cell_type": "code",
      "source": [
        "movie_info_list[-60]"
      ],
      "metadata": {
        "colab": {
          "base_uri": "https://localhost:8080/"
        },
        "id": "719w8hLgdvCc",
        "outputId": "4d0e4da4-effe-4e27-89cd-c1ad6ed214c3"
      },
      "execution_count": null,
      "outputs": [
        {
          "output_type": "execute_result",
          "data": {
            "text/plain": [
              "{'Box office (float)': None,\n",
              " 'Budget': '$40 million',\n",
              " 'Budget (float)': 40000000.0,\n",
              " 'Cinematography': 'Ericson Core',\n",
              " 'Country': 'United States',\n",
              " 'Directed by': 'Ericson Core',\n",
              " 'Distributed by': 'Disney+',\n",
              " 'Edited by': 'Martin Pensa',\n",
              " 'Language': 'English',\n",
              " 'Music by': 'Mark Isham',\n",
              " 'Produced by': 'Kim Zubick',\n",
              " 'Production company': 'Walt Disney Pictures',\n",
              " 'Release date': ['December 20, 2019 (United States)'],\n",
              " 'Release date (datetime)': datetime.datetime(2019, 12, 20, 0, 0),\n",
              " 'Running time': '114 minutes',\n",
              " 'Running time (int)': 114,\n",
              " 'Starring': ['Willem Dafoe'],\n",
              " 'Written by': 'Tom Flynn',\n",
              " 'title': 'Togo'}"
            ]
          },
          "metadata": {},
          "execution_count": 41
        }
      ]
    },
    {
      "cell_type": "code",
      "source": [
        "#use the website to get api data\n",
        "# http://www.omdbapi.com/?apikey=[yourkey]&\n",
        "apikey=\"98b4f43e\""
      ],
      "metadata": {
        "id": "csOP6bJvdu_0"
      },
      "execution_count": null,
      "outputs": []
    },
    {
      "cell_type": "code",
      "source": [
        "import requests\n",
        "import urllib\n",
        "import os\n",
        "\n",
        "def get_omdb_info(title):\n",
        "    base_url = \"http://www.omdbapi.com/?\"\n",
        "    parameters = {\"apikey\": apikey, 't': title}\n",
        "    params_encoded = urllib.parse.urlencode(parameters)\n",
        "  #construct a full url based on the title of movie\n",
        "    full_url = base_url + params_encoded\n",
        "    return requests.get(full_url).json()\n",
        "\n",
        "def get_rotten_tomato_score(omdb_info):\n",
        "  #if no Ratings return []\n",
        "    ratings = omdb_info.get('Ratings', [])\n",
        "    for rating in ratings:\n",
        "        if rating['Source'] == 'Rotten Tomatoes':\n",
        "            return rating['Value']\n",
        "    return None\n",
        "get_omdb_info(\"into the woods\")"
      ],
      "metadata": {
        "colab": {
          "base_uri": "https://localhost:8080/"
        },
        "id": "K0uK9t_Vdu9b",
        "outputId": "bcd40a63-cb40-4666-e534-a05501ef93b7"
      },
      "execution_count": null,
      "outputs": [
        {
          "output_type": "execute_result",
          "data": {
            "text/plain": [
              "{'Actors': 'Anna Kendrick, Meryl Streep, Chris Pine',\n",
              " 'Awards': 'Nominated for 3 Oscars. 10 wins & 74 nominations total',\n",
              " 'BoxOffice': '$128,002,372',\n",
              " 'Country': 'United States',\n",
              " 'DVD': '24 Mar 2015',\n",
              " 'Director': 'Rob Marshall',\n",
              " 'Genre': 'Adventure, Comedy, Drama',\n",
              " 'Language': 'English',\n",
              " 'Metascore': '69',\n",
              " 'Plot': 'A witch tasks a childless baker and his wife with procuring magical items from classic fairy tales to reverse the curse put on their family tree.',\n",
              " 'Poster': 'https://m.media-amazon.com/images/M/MV5BMTY4MzQ4OTY3NF5BMl5BanBnXkFtZTgwNjM5MDI3MjE@._V1_SX300.jpg',\n",
              " 'Production': 'N/A',\n",
              " 'Rated': 'PG',\n",
              " 'Ratings': [{'Source': 'Internet Movie Database', 'Value': '5.9/10'},\n",
              "  {'Source': 'Rotten Tomatoes', 'Value': '71%'},\n",
              "  {'Source': 'Metacritic', 'Value': '69/100'}],\n",
              " 'Released': '25 Dec 2014',\n",
              " 'Response': 'True',\n",
              " 'Runtime': '125 min',\n",
              " 'Title': 'Into the Woods',\n",
              " 'Type': 'movie',\n",
              " 'Website': 'N/A',\n",
              " 'Writer': 'James Lapine',\n",
              " 'Year': '2014',\n",
              " 'imdbID': 'tt2180411',\n",
              " 'imdbRating': '5.9',\n",
              " 'imdbVotes': '139,137'}"
            ]
          },
          "metadata": {},
          "execution_count": 43
        }
      ]
    },
    {
      "cell_type": "code",
      "source": [
        "#add scores to movies\n",
        "for movie in movie_info_list:\n",
        "    title = movie['title']\n",
        "    omdb_info = get_omdb_info(title)\n",
        "    movie['imdb'] = omdb_info.get('imdbRating', None)\n",
        "    movie['metascore'] = omdb_info.get('Metascore', None)\n",
        "    movie['Genre'] = omdb_info.get('Genre', None)\n",
        "    movie['Awards'] = omdb_info.get('Awards', None)\n",
        "    movie['rotten_tomatoes'] = get_rotten_tomato_score(omdb_info)"
      ],
      "metadata": {
        "id": "o9gc-n3ggY3W"
      },
      "execution_count": null,
      "outputs": []
    },
    {
      "cell_type": "code",
      "source": [
        "movie_info_list[-60]"
      ],
      "metadata": {
        "colab": {
          "base_uri": "https://localhost:8080/"
        },
        "id": "TAT25kKugY07",
        "outputId": "91afafd8-73d5-42ad-d1bf-fecad3860ce9"
      },
      "execution_count": null,
      "outputs": [
        {
          "output_type": "execute_result",
          "data": {
            "text/plain": [
              "{'Awards': '1 win & 4 nominations',\n",
              " 'Box office (float)': None,\n",
              " 'Budget': '$40 million',\n",
              " 'Budget (float)': 40000000.0,\n",
              " 'Cinematography': 'Ericson Core',\n",
              " 'Country': 'United States',\n",
              " 'Directed by': 'Ericson Core',\n",
              " 'Distributed by': 'Disney+',\n",
              " 'Edited by': 'Martin Pensa',\n",
              " 'Genre': 'Adventure, Biography, Drama',\n",
              " 'Language': 'English',\n",
              " 'Music by': 'Mark Isham',\n",
              " 'Produced by': 'Kim Zubick',\n",
              " 'Production company': 'Walt Disney Pictures',\n",
              " 'Release date': ['December 20, 2019 (United States)'],\n",
              " 'Release date (datetime)': datetime.datetime(2019, 12, 20, 0, 0),\n",
              " 'Running time': '114 minutes',\n",
              " 'Running time (int)': 114,\n",
              " 'Starring': ['Willem Dafoe'],\n",
              " 'Written by': 'Tom Flynn',\n",
              " 'imdb': '8.0',\n",
              " 'metascore': '69',\n",
              " 'rotten_tomatoes': '92%',\n",
              " 'title': 'Togo'}"
            ]
          },
          "metadata": {},
          "execution_count": 49
        }
      ]
    },
    {
      "cell_type": "code",
      "source": [
        "save_data_pickle('disney_movie_data_final.pickle', movie_info_list)"
      ],
      "metadata": {
        "id": "Cd_fUekjgYyg"
      },
      "execution_count": null,
      "outputs": []
    },
    {
      "cell_type": "markdown",
      "source": [
        "# ***Task #5: Save data as JSON & CSV***"
      ],
      "metadata": {
        "id": "QQeeP1M3lU-Y"
      }
    },
    {
      "cell_type": "code",
      "source": [
        "movie_info_copy = [movie.copy() for movie in movie_info_list]"
      ],
      "metadata": {
        "id": "dGF4uHsUgYwH"
      },
      "execution_count": null,
      "outputs": []
    },
    {
      "cell_type": "code",
      "source": [
        "for movie in movie_info_copy:\n",
        "    current_date = movie['Release date (datetime)']\n",
        "    if current_date:\n",
        "        movie['Release date (datetime)'] = current_date.strftime(\"%B %d, %Y\")\n",
        "    else:\n",
        "        movie['Release date (datetime)'] = None"
      ],
      "metadata": {
        "id": "KVMGoqEVgYtf"
      },
      "execution_count": null,
      "outputs": []
    },
    {
      "cell_type": "code",
      "source": [
        "save_data(\"disney_data_final.json\", movie_info_copy)"
      ],
      "metadata": {
        "id": "xPkYZJdsgYrL"
      },
      "execution_count": null,
      "outputs": []
    },
    {
      "cell_type": "markdown",
      "source": [
        "*Convert data to CSV*"
      ],
      "metadata": {
        "id": "jdhYPzgelcdA"
      }
    },
    {
      "cell_type": "code",
      "source": [
        "import pandas as pd\n",
        "\n",
        "df = pd.DataFrame(movie_info_list)"
      ],
      "metadata": {
        "id": "yNY8tngggYof"
      },
      "execution_count": null,
      "outputs": []
    },
    {
      "cell_type": "code",
      "source": [
        "df.head()"
      ],
      "metadata": {
        "colab": {
          "base_uri": "https://localhost:8080/",
          "height": 609
        },
        "id": "T3XPVZGWgYl3",
        "outputId": "8805ce5b-7be4-47d0-e5d2-f699bb675893"
      },
      "execution_count": null,
      "outputs": [
        {
          "output_type": "execute_result",
          "data": {
            "text/plain": [
              "                             title       Production company  \\\n",
              "0          Academy Award Review of  Walt Disney Productions   \n",
              "1  Snow White and the Seven Dwarfs  Walt Disney Productions   \n",
              "2                        Pinocchio  Walt Disney Productions   \n",
              "3                         Fantasia  Walt Disney Productions   \n",
              "4             The Reluctant Dragon  Walt Disney Productions   \n",
              "\n",
              "       Distributed by         Release date  \\\n",
              "0      United Artists       [May 19, 1937]   \n",
              "1  RKO Radio Pictures                  NaN   \n",
              "2  RKO Radio Pictures                  NaN   \n",
              "3  RKO Radio Pictures  [November 13, 1940]   \n",
              "4  RKO Radio Pictures      [June 27, 1941]   \n",
              "\n",
              "                           Running time        Country Language  \\\n",
              "0  41 minutes (74 minutes 1966 release)  United States  English   \n",
              "1                            83 minutes  United States  English   \n",
              "2                            88 minutes  United States  English   \n",
              "3                           126 minutes  United States  English   \n",
              "4                            74 minutes  United States  English   \n",
              "\n",
              "                                       Box office  Running time (int)  \\\n",
              "0                                         $45.472                41.0   \n",
              "1                                    $418 million                83.0   \n",
              "2                                    $164 million                88.0   \n",
              "3  $76.4–$83.3 million (United States and Canada)               126.0   \n",
              "4                    $960,000 (worldwide rentals)                74.0   \n",
              "\n",
              "   Budget (float)  ...  Layouts by Original concept by Created by  \\\n",
              "0             NaN  ...         NaN                 NaN        NaN   \n",
              "1       1490000.0  ...         NaN                 NaN        NaN   \n",
              "2       2600000.0  ...         NaN                 NaN        NaN   \n",
              "3       2280000.0  ...         NaN                 NaN        NaN   \n",
              "4        600000.0  ...         NaN                 NaN        NaN   \n",
              "\n",
              "  Original work Owner Music Lyrics Book Basis Productions  \n",
              "0           NaN   NaN   NaN    NaN  NaN   NaN         NaN  \n",
              "1           NaN   NaN   NaN    NaN  NaN   NaN         NaN  \n",
              "2           NaN   NaN   NaN    NaN  NaN   NaN         NaN  \n",
              "3           NaN   NaN   NaN    NaN  NaN   NaN         NaN  \n",
              "4           NaN   NaN   NaN    NaN  NaN   NaN         NaN  \n",
              "\n",
              "[5 rows x 51 columns]"
            ],
            "text/html": [
              "\n",
              "  <div id=\"df-012825da-359e-4655-8579-4c6bf1f66818\">\n",
              "    <div class=\"colab-df-container\">\n",
              "      <div>\n",
              "<style scoped>\n",
              "    .dataframe tbody tr th:only-of-type {\n",
              "        vertical-align: middle;\n",
              "    }\n",
              "\n",
              "    .dataframe tbody tr th {\n",
              "        vertical-align: top;\n",
              "    }\n",
              "\n",
              "    .dataframe thead th {\n",
              "        text-align: right;\n",
              "    }\n",
              "</style>\n",
              "<table border=\"1\" class=\"dataframe\">\n",
              "  <thead>\n",
              "    <tr style=\"text-align: right;\">\n",
              "      <th></th>\n",
              "      <th>title</th>\n",
              "      <th>Production company</th>\n",
              "      <th>Distributed by</th>\n",
              "      <th>Release date</th>\n",
              "      <th>Running time</th>\n",
              "      <th>Country</th>\n",
              "      <th>Language</th>\n",
              "      <th>Box office</th>\n",
              "      <th>Running time (int)</th>\n",
              "      <th>Budget (float)</th>\n",
              "      <th>...</th>\n",
              "      <th>Layouts by</th>\n",
              "      <th>Original concept by</th>\n",
              "      <th>Created by</th>\n",
              "      <th>Original work</th>\n",
              "      <th>Owner</th>\n",
              "      <th>Music</th>\n",
              "      <th>Lyrics</th>\n",
              "      <th>Book</th>\n",
              "      <th>Basis</th>\n",
              "      <th>Productions</th>\n",
              "    </tr>\n",
              "  </thead>\n",
              "  <tbody>\n",
              "    <tr>\n",
              "      <th>0</th>\n",
              "      <td>Academy Award Review of</td>\n",
              "      <td>Walt Disney Productions</td>\n",
              "      <td>United Artists</td>\n",
              "      <td>[May 19, 1937]</td>\n",
              "      <td>41 minutes (74 minutes 1966 release)</td>\n",
              "      <td>United States</td>\n",
              "      <td>English</td>\n",
              "      <td>$45.472</td>\n",
              "      <td>41.0</td>\n",
              "      <td>NaN</td>\n",
              "      <td>...</td>\n",
              "      <td>NaN</td>\n",
              "      <td>NaN</td>\n",
              "      <td>NaN</td>\n",
              "      <td>NaN</td>\n",
              "      <td>NaN</td>\n",
              "      <td>NaN</td>\n",
              "      <td>NaN</td>\n",
              "      <td>NaN</td>\n",
              "      <td>NaN</td>\n",
              "      <td>NaN</td>\n",
              "    </tr>\n",
              "    <tr>\n",
              "      <th>1</th>\n",
              "      <td>Snow White and the Seven Dwarfs</td>\n",
              "      <td>Walt Disney Productions</td>\n",
              "      <td>RKO Radio Pictures</td>\n",
              "      <td>NaN</td>\n",
              "      <td>83 minutes</td>\n",
              "      <td>United States</td>\n",
              "      <td>English</td>\n",
              "      <td>$418 million</td>\n",
              "      <td>83.0</td>\n",
              "      <td>1490000.0</td>\n",
              "      <td>...</td>\n",
              "      <td>NaN</td>\n",
              "      <td>NaN</td>\n",
              "      <td>NaN</td>\n",
              "      <td>NaN</td>\n",
              "      <td>NaN</td>\n",
              "      <td>NaN</td>\n",
              "      <td>NaN</td>\n",
              "      <td>NaN</td>\n",
              "      <td>NaN</td>\n",
              "      <td>NaN</td>\n",
              "    </tr>\n",
              "    <tr>\n",
              "      <th>2</th>\n",
              "      <td>Pinocchio</td>\n",
              "      <td>Walt Disney Productions</td>\n",
              "      <td>RKO Radio Pictures</td>\n",
              "      <td>NaN</td>\n",
              "      <td>88 minutes</td>\n",
              "      <td>United States</td>\n",
              "      <td>English</td>\n",
              "      <td>$164 million</td>\n",
              "      <td>88.0</td>\n",
              "      <td>2600000.0</td>\n",
              "      <td>...</td>\n",
              "      <td>NaN</td>\n",
              "      <td>NaN</td>\n",
              "      <td>NaN</td>\n",
              "      <td>NaN</td>\n",
              "      <td>NaN</td>\n",
              "      <td>NaN</td>\n",
              "      <td>NaN</td>\n",
              "      <td>NaN</td>\n",
              "      <td>NaN</td>\n",
              "      <td>NaN</td>\n",
              "    </tr>\n",
              "    <tr>\n",
              "      <th>3</th>\n",
              "      <td>Fantasia</td>\n",
              "      <td>Walt Disney Productions</td>\n",
              "      <td>RKO Radio Pictures</td>\n",
              "      <td>[November 13, 1940]</td>\n",
              "      <td>126 minutes</td>\n",
              "      <td>United States</td>\n",
              "      <td>English</td>\n",
              "      <td>$76.4–$83.3 million (United States and Canada)</td>\n",
              "      <td>126.0</td>\n",
              "      <td>2280000.0</td>\n",
              "      <td>...</td>\n",
              "      <td>NaN</td>\n",
              "      <td>NaN</td>\n",
              "      <td>NaN</td>\n",
              "      <td>NaN</td>\n",
              "      <td>NaN</td>\n",
              "      <td>NaN</td>\n",
              "      <td>NaN</td>\n",
              "      <td>NaN</td>\n",
              "      <td>NaN</td>\n",
              "      <td>NaN</td>\n",
              "    </tr>\n",
              "    <tr>\n",
              "      <th>4</th>\n",
              "      <td>The Reluctant Dragon</td>\n",
              "      <td>Walt Disney Productions</td>\n",
              "      <td>RKO Radio Pictures</td>\n",
              "      <td>[June 27, 1941]</td>\n",
              "      <td>74 minutes</td>\n",
              "      <td>United States</td>\n",
              "      <td>English</td>\n",
              "      <td>$960,000 (worldwide rentals)</td>\n",
              "      <td>74.0</td>\n",
              "      <td>600000.0</td>\n",
              "      <td>...</td>\n",
              "      <td>NaN</td>\n",
              "      <td>NaN</td>\n",
              "      <td>NaN</td>\n",
              "      <td>NaN</td>\n",
              "      <td>NaN</td>\n",
              "      <td>NaN</td>\n",
              "      <td>NaN</td>\n",
              "      <td>NaN</td>\n",
              "      <td>NaN</td>\n",
              "      <td>NaN</td>\n",
              "    </tr>\n",
              "  </tbody>\n",
              "</table>\n",
              "<p>5 rows × 51 columns</p>\n",
              "</div>\n",
              "      <button class=\"colab-df-convert\" onclick=\"convertToInteractive('df-012825da-359e-4655-8579-4c6bf1f66818')\"\n",
              "              title=\"Convert this dataframe to an interactive table.\"\n",
              "              style=\"display:none;\">\n",
              "        \n",
              "  <svg xmlns=\"http://www.w3.org/2000/svg\" height=\"24px\"viewBox=\"0 0 24 24\"\n",
              "       width=\"24px\">\n",
              "    <path d=\"M0 0h24v24H0V0z\" fill=\"none\"/>\n",
              "    <path d=\"M18.56 5.44l.94 2.06.94-2.06 2.06-.94-2.06-.94-.94-2.06-.94 2.06-2.06.94zm-11 1L8.5 8.5l.94-2.06 2.06-.94-2.06-.94L8.5 2.5l-.94 2.06-2.06.94zm10 10l.94 2.06.94-2.06 2.06-.94-2.06-.94-.94-2.06-.94 2.06-2.06.94z\"/><path d=\"M17.41 7.96l-1.37-1.37c-.4-.4-.92-.59-1.43-.59-.52 0-1.04.2-1.43.59L10.3 9.45l-7.72 7.72c-.78.78-.78 2.05 0 2.83L4 21.41c.39.39.9.59 1.41.59.51 0 1.02-.2 1.41-.59l7.78-7.78 2.81-2.81c.8-.78.8-2.07 0-2.86zM5.41 20L4 18.59l7.72-7.72 1.47 1.35L5.41 20z\"/>\n",
              "  </svg>\n",
              "      </button>\n",
              "      \n",
              "  <style>\n",
              "    .colab-df-container {\n",
              "      display:flex;\n",
              "      flex-wrap:wrap;\n",
              "      gap: 12px;\n",
              "    }\n",
              "\n",
              "    .colab-df-convert {\n",
              "      background-color: #E8F0FE;\n",
              "      border: none;\n",
              "      border-radius: 50%;\n",
              "      cursor: pointer;\n",
              "      display: none;\n",
              "      fill: #1967D2;\n",
              "      height: 32px;\n",
              "      padding: 0 0 0 0;\n",
              "      width: 32px;\n",
              "    }\n",
              "\n",
              "    .colab-df-convert:hover {\n",
              "      background-color: #E2EBFA;\n",
              "      box-shadow: 0px 1px 2px rgba(60, 64, 67, 0.3), 0px 1px 3px 1px rgba(60, 64, 67, 0.15);\n",
              "      fill: #174EA6;\n",
              "    }\n",
              "\n",
              "    [theme=dark] .colab-df-convert {\n",
              "      background-color: #3B4455;\n",
              "      fill: #D2E3FC;\n",
              "    }\n",
              "\n",
              "    [theme=dark] .colab-df-convert:hover {\n",
              "      background-color: #434B5C;\n",
              "      box-shadow: 0px 1px 3px 1px rgba(0, 0, 0, 0.15);\n",
              "      filter: drop-shadow(0px 1px 2px rgba(0, 0, 0, 0.3));\n",
              "      fill: #FFFFFF;\n",
              "    }\n",
              "  </style>\n",
              "\n",
              "      <script>\n",
              "        const buttonEl =\n",
              "          document.querySelector('#df-012825da-359e-4655-8579-4c6bf1f66818 button.colab-df-convert');\n",
              "        buttonEl.style.display =\n",
              "          google.colab.kernel.accessAllowed ? 'block' : 'none';\n",
              "\n",
              "        async function convertToInteractive(key) {\n",
              "          const element = document.querySelector('#df-012825da-359e-4655-8579-4c6bf1f66818');\n",
              "          const dataTable =\n",
              "            await google.colab.kernel.invokeFunction('convertToInteractive',\n",
              "                                                     [key], {});\n",
              "          if (!dataTable) return;\n",
              "\n",
              "          const docLinkHtml = 'Like what you see? Visit the ' +\n",
              "            '<a target=\"_blank\" href=https://colab.research.google.com/notebooks/data_table.ipynb>data table notebook</a>'\n",
              "            + ' to learn more about interactive tables.';\n",
              "          element.innerHTML = '';\n",
              "          dataTable['output_type'] = 'display_data';\n",
              "          await google.colab.output.renderOutput(dataTable, element);\n",
              "          const docLink = document.createElement('div');\n",
              "          docLink.innerHTML = docLinkHtml;\n",
              "          element.appendChild(docLink);\n",
              "        }\n",
              "      </script>\n",
              "    </div>\n",
              "  </div>\n",
              "  "
            ]
          },
          "metadata": {},
          "execution_count": 55
        }
      ]
    },
    {
      "cell_type": "code",
      "source": [
        "df.to_csv(\"disney_movie_data_final.csv\")"
      ],
      "metadata": {
        "id": "1rIKBafjlkaA"
      },
      "execution_count": null,
      "outputs": []
    },
    {
      "cell_type": "code",
      "source": [
        ""
      ],
      "metadata": {
        "id": "ObLjLa6VlkXQ"
      },
      "execution_count": null,
      "outputs": []
    },
    {
      "cell_type": "code",
      "source": [
        ""
      ],
      "metadata": {
        "id": "aSJQtyQklkTY"
      },
      "execution_count": null,
      "outputs": []
    },
    {
      "cell_type": "markdown",
      "source": [
        ""
      ],
      "metadata": {
        "id": "E4bnxAG6RQxX"
      }
    }
  ]
}